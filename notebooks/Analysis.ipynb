{
 "cells": [
  {
   "cell_type": "code",
   "execution_count": 7,
   "id": "f539b4ea",
   "metadata": {},
   "outputs": [],
   "source": [
    "import awkward as ak\n",
    "import matplotlib.pyplot as plt\n",
    "import os, sys\n",
    "import subprocess\n",
    "import json\n",
    "import uproot\n",
    "from coffea.nanoevents import NanoEventsFactory, ScoutingNanoAODSchema\n",
    "from coffea.lookup_tools.lookup_base import lookup_base\n",
    "import numpy as np\n",
    "from coffea import processor, util\n",
    "from hist import Hist\n",
    "import hist\n",
    "from coffea.analysis_tools import Weights, PackedSelection\n",
    "from collections import defaultdict"
   ]
  },
  {
   "cell_type": "code",
   "execution_count": 108,
   "id": "ed7c8f11",
   "metadata": {},
   "outputs": [],
   "source": [
    "class Processor(processor.ProcessorABC):\n",
    "    def __init__(self, jet_arbitration='pt', tagger=\"v1\", systematics=False):\n",
    "        self._jet_arbitration = jet_arbitration\n",
    "        self._tagger = tagger\n",
    "        self._ak4btagwp = 0.2\n",
    "        self._tightMatch = False\n",
    "        self._systematics = systematics\n",
    "        \n",
    "    @property\n",
    "    def accumulator(self):\n",
    "        return {\n",
    "            \"sumw\": defaultdict(float),\n",
    "            \"templates\": (\n",
    "                            Hist.new.StrCategory(\n",
    "                                [], name=\"dataset\", label=\"Dataset\", growth=True\n",
    "                            ).StrCategory(\n",
    "                                [], name=\"region\", label=\"Region\", growth=True\n",
    "                            ).StrCategory(\n",
    "                                [], name=\"systematic\", label=\"Systematic\", growth=True\n",
    "                            ).IntCategory(\n",
    "                                [], name=\"genflavour\", label=\"Genflavour\", growth=True\n",
    "                            ).Reg(\n",
    "                                50, 100, 700, name=\"pt\", label=r\"Leading jet $p_T$\"\n",
    "                            ).Reg(\n",
    "                                50, 0, 150, name=\"mass\", label=r\"Leading jet mass\"\n",
    "                            ).Reg(\n",
    "                                50, 0, 1, name=\"ddb\", label=r\"Double b score\"\n",
    "                            ).Double()\n",
    "                        ),\n",
    "        }\n",
    "           \n",
    "        \n",
    "    def process(self, events):\n",
    "        return self.process_shift(events, None)\n",
    "    \n",
    "    def process_shift(self, events, shift_name):\n",
    "        \n",
    "        output = self.accumulator\n",
    "        \n",
    "        dataset = events.metadata['dataset']\n",
    "        \n",
    "        isRealData = not hasattr(events, \"genWeight\")\n",
    "        isQCDMC = 'QCD' in dataset\n",
    "        \n",
    "        selection = PackedSelection()\n",
    "        weights = Weights(len(events), storeIndividual=True)\n",
    "        \n",
    "        if shift_name is None and not isRealData:\n",
    "            output['sumw'][dataset] += ak.sum(events.genWeight)\n",
    "            \n",
    "        if len(events) == 0:\n",
    "            return output\n",
    "        \n",
    "        fatjets = events.ScoutingFatJet\n",
    "        fatjets['qcdrho'] = 2 * np.log(fatjets.mass / fatjets.pt)\n",
    "        fatjets[\"pn_Hbb\"] = fatjets.particleNet_prob_Hbb / (fatjets.particleNet_prob_Hbb + fatjets.particleNet_prob_QCD)\n",
    "        \n",
    "        candidatejet = fatjets[\n",
    "            (fatjets.pt > 200)\n",
    "            & (abs(fatjets.eta) < 2.5)\n",
    "        ]\n",
    "        \n",
    "        candidatejet = candidatejet[:, :2]\n",
    "        if self._jet_arbitration == 'pt':\n",
    "            candidatejet = ak.firsts(candidatejet)\n",
    "        else:\n",
    "            raise RuntimeError(\"Unknown candidate jet arbitration\")\n",
    "            \n",
    "        if self._tagger == 'v1':\n",
    "            bvq = candidatejet.pn_Hbb\n",
    "        else:\n",
    "            raise RuntimeError(\"Unknown jet tag version\")\n",
    "            \n",
    "        selection.add('minjetkin',\n",
    "            (candidatejet.pt >= 350)\n",
    "            & (candidatejet.pt < 1200)\n",
    "            & (candidatejet.qcdrho < -1.7)\n",
    "            & (candidatejet.qcdrho > -6.0)\n",
    "            & (abs(candidatejet.eta) < 2.5)\n",
    "        )\n",
    "        \n",
    "        selection.add('jetid', \n",
    "            (candidatejet.neHEF < 0.9)\n",
    "            & (candidatejet.neEmEF < 0.9)\n",
    "            & (candidatejet.muEmEF < 0.8)\n",
    "            & (candidatejet.chHEF > 0.01)\n",
    "            & (candidatejet.nCh > 0)\n",
    "            & (candidatejet.chEmEF < 0.8)\n",
    "        )\n",
    "        \n",
    "        jets = events.ScoutingJet\n",
    "        jets = jets[\n",
    "            (jets.pt > 30.)\n",
    "            & (abs(jets.eta) < 5.0)\n",
    "        ]\n",
    "        \n",
    "        jets = jets[:, :4]\n",
    "        jets[\"pn_b\"] = jets.particleNet_prob_b / (jets.particleNet_prob_b + jets.particleNet_prob_g)\n",
    "        dphi = abs(jets.delta_phi(candidatejet))\n",
    "        selection.add('ak4btagOppHem', ak.max(jets[dphi > np.pi / 2].pn_b, axis=1, mask_identity=False) < self._ak4btagwp) \n",
    "\n",
    "        met = events.ScoutingMET\n",
    "        selection.add('met', met.pt < 140.)\n",
    "        \n",
    "        goodmuon = (\n",
    "            (events.ScoutingMuon.pt > 10)\n",
    "            & (abs(events.ScoutingMuon.eta) < 2.4)\n",
    "        )\n",
    "        \n",
    "        nmuons = ak.sum(goodmuon, axis=1)\n",
    "        leadingmuon = ak.firsts(events.ScoutingMuon[goodmuon])\n",
    "\n",
    "        goodelectron = (\n",
    "            (events.ScoutingElectron.pt > 10)\n",
    "            & (abs(events.ScoutingElectron.eta) < 2.5)\n",
    "        )\n",
    "        nelectrons = ak.sum(goodelectron, axis=1)\n",
    "        \n",
    "        selection.add('noleptons', (nmuons == 0) & (nelectrons == 0))\n",
    "        \n",
    "        if isRealData :\n",
    "            genflavor = ak.zeros_like(candidatejet.pt)\n",
    "        else:\n",
    "            weights.add('genweight', events.genWeight)\n",
    "\n",
    "            bosons = self.getBosons(events.GenPart)\n",
    "            matchedBoson = candidatejet.nearest(bosons, axis=None, threshold=0.8)\n",
    "            if self._tightMatch:\n",
    "                match_mask = ((candidatejet.pt - matchedBoson.pt)/matchedBoson.pt < 0.5) & ((candidatejet.mass - matchedBoson.mass)/matchedBoson.mass < 0.3)\n",
    "                selmatchedBoson = ak.mask(matchedBoson, match_mask)\n",
    "                genflavour = self.bosonFlavor(selmatchedBoson)\n",
    "            else:\n",
    "                genflavour = self.bosonFlavor(matchedBoson)\n",
    "            genBosonPt = ak.fill_none(ak.firsts(bosons.pt), 0)\n",
    "            \n",
    "        mass_matched = candidatejet.mass * (genflavour > 0) + candidatejet.mass * (genflavour == 0)\n",
    "            \n",
    "        regions = {\n",
    "            'signal-ggf': ['minjetkin','jetid','ak4btagOppHem','met','noleptons'],\n",
    "            'noselection': [],\n",
    "        }\n",
    "        \n",
    "        def normalize(val, cut):\n",
    "            if cut is None:\n",
    "                ar = ak.to_numpy(ak.fill_none(val, np.nan))\n",
    "                return ar\n",
    "            else:\n",
    "                ar = ak.to_numpy(ak.fill_none(val[cut], np.nan))\n",
    "                return ar\n",
    "            \n",
    "        if shift_name is None:\n",
    "            systematics = [None] + list(weights.variations)\n",
    "        else:\n",
    "            systematics = [shift_name]\n",
    "            \n",
    "        def fill(region, systematic):\n",
    "            selections = regions[region]\n",
    "            cut = selection.all(*selections)\n",
    "            sname = 'nominal' if systematic is None else systematic\n",
    "            if systematic in weights.variations:\n",
    "                weight = weights.weight(modifier=systematic)[cut]\n",
    "            else:\n",
    "                weight = weights.weight()[cut]\n",
    "\n",
    "            output['templates'].fill(\n",
    "                dataset=dataset,\n",
    "                region=region,\n",
    "                systematic=sname,\n",
    "                genflavour=normalize(genflavour, cut),\n",
    "                pt=normalize(candidatejet.pt, cut),\n",
    "                mass=normalize(mass_matched, cut),\n",
    "                ddb=normalize(bvq, cut),\n",
    "                weight=weight,\n",
    "            )\n",
    "            \n",
    "        for region in regions:\n",
    "            for systematic in systematics:\n",
    "                if isRealData and systematic is not None:\n",
    "                    continue\n",
    "                fill(region, systematic)\n",
    "                \n",
    "        if shift_name is None:\n",
    "            output[\"weightStats\"] = weights.weightStatistics\n",
    "        \n",
    "        return output\n",
    "    \n",
    "    def getBosons(self, genparticles):\n",
    "        absid = abs(genparticles.pdgId)\n",
    "        return genparticles[\n",
    "            (absid >= 22) # no gluons\n",
    "            & (absid <= 25)\n",
    "            & genparticles.hasFlags(['fromHardProcess', 'isLastCopy'])\n",
    "        ]\n",
    "\n",
    "    def bosonFlavor(self, bosons):\n",
    "        childid = abs(bosons.children.pdgId)\n",
    "        genflavor = ak.any(childid == 5, axis=-1) * 5 + ak.any(childid == 4, axis=-1) * 4 + ak.all(childid < 4, axis=-1) * 1\n",
    "        return ak.fill_none(genflavor, 0)\n",
    "    \n",
    "    def postprocess(self, accumulator):\n",
    "        return accumulator"
   ]
  },
  {
   "cell_type": "code",
   "execution_count": 109,
   "id": "a2741fb1",
   "metadata": {
    "scrolled": false
   },
   "outputs": [
    {
     "data": {
      "application/vnd.jupyter.widget-view+json": {
       "model_id": "a4970767706f48c9819a21cad59ddf78",
       "version_major": 2,
       "version_minor": 0
      },
      "text/plain": [
       "Output()"
      ]
     },
     "metadata": {},
     "output_type": "display_data"
    },
    {
     "name": "stderr",
     "output_type": "stream",
     "text": [
      "/opt/conda/lib/python3.8/site-packages/awkward/_connect/_numpy.py:195: RuntimeWarning: invalid value encountered in divide\n",
      "  result = getattr(ufunc, method)(\n"
     ]
    },
    {
     "data": {
      "text/html": [
       "<pre style=\"white-space:pre;overflow-x:auto;line-height:normal;font-family:Menlo,'DejaVu Sans Mono',consolas,'Courier New',monospace\"></pre>\n"
      ],
      "text/plain": []
     },
     "metadata": {},
     "output_type": "display_data"
    },
    {
     "data": {
      "text/html": [
       "<pre style=\"white-space:pre;overflow-x:auto;line-height:normal;font-family:Menlo,'DejaVu Sans Mono',consolas,'Courier New',monospace\">\n",
       "</pre>\n"
      ],
      "text/plain": [
       "\n"
      ]
     },
     "metadata": {},
     "output_type": "display_data"
    }
   ],
   "source": [
    "fileset = {\n",
    "    \"QCD_PT-470-600\" : [\n",
    "        \"nanoaod_100.root\"\n",
    "    ],\n",
    "}\n",
    "\n",
    "p = Processor()\n",
    "\n",
    "futures_run = processor.Runner(\n",
    "    executor = processor.FuturesExecutor(compression=None, workers=2),\n",
    "    schema = ScoutingNanoAODSchema,\n",
    "    maxchunks = 10,\n",
    ")\n",
    "\n",
    "out = futures_run(\n",
    "    fileset,\n",
    "    treename=\"Events\",\n",
    "    processor_instance=p\n",
    ")"
   ]
  },
  {
   "cell_type": "code",
   "execution_count": 110,
   "id": "02ff0337",
   "metadata": {},
   "outputs": [
    {
     "data": {
      "text/plain": [
       "{'sumw': defaultdict(float, {'QCD_PT-470-600': 100.0}),\n",
       " 'templates': Hist(\n",
       "   StrCategory(['QCD_PT-470-600'], growth=True, name='dataset', label='Dataset'),\n",
       "   StrCategory(['signal-ggf', 'noselection'], growth=True, name='region', label='Region'),\n",
       "   StrCategory(['nominal'], growth=True, name='systematic', label='Systematic'),\n",
       "   IntCategory([0], growth=True, name='genflavour', label='Genflavour'),\n",
       "   Regular(50, 100, 700, name='pt', label='Leading jet $p_T$'),\n",
       "   Regular(50, 0, 150, name='mass', label='Leading jet mass'),\n",
       "   Regular(50, 0, 1, name='ddb', label='Double b score'),\n",
       "   storage=Double()) # Sum: 3.0 (166.0 with flow),\n",
       " 'weightStats': {'genweight': WeightStatistics(sumw=100.0, sumw2=100.0, minw=1.0, maxw=1.0, n=100)}}"
      ]
     },
     "execution_count": 110,
     "metadata": {},
     "output_type": "execute_result"
    }
   ],
   "source": [
    "out"
   ]
  },
  {
   "cell_type": "code",
   "execution_count": 107,
   "id": "d8bcc794",
   "metadata": {},
   "outputs": [
    {
     "data": {
      "image/png": "[encoded data removed]",
      "text/plain": [
       "<Figure size 1000x1000 with 4 Axes>"
      ]
     },
     "metadata": {},
     "output_type": "display_data"
    }
   ],
   "source": [
    "import mplhep\n",
    "mplhep.style.use(\"CMS\")\n",
    "\n",
    "fig, axs = plt.subplots(2, 2, figsize=(10, 10))\n",
    "plt.subplots_adjust(wspace=0.4,hspace=0.4)\n",
    "\n",
    "mplhep.histplot(out['templates'].project(\"pt\"), ax=axs[0,0])\n",
    "mplhep.histplot(out['templates'].project(\"mass\"), ax=axs[0,1])\n",
    "mplhep.histplot(out['templates'].project(\"ddb\"), ax=axs[1,0])\n",
    "mplhep.histplot(out['templates'].project(\"genflavour\"), ax=axs[1,1])\n",
    "\n",
    "plt.show()"
   ]
  },
  {
   "cell_type": "code",
   "execution_count": null,
   "id": "2a6819f0",
   "metadata": {},
   "outputs": [],
   "source": []
  }
 ],
 "metadata": {
  "kernelspec": {
   "display_name": "Python 3 (ipykernel)",
   "language": "python",
   "name": "python3"
  },
  "language_info": {
   "codemirror_mode": {
    "name": "ipython",
    "version": 3
   },
   "file_extension": ".py",
   "mimetype": "text/x-python",
   "name": "python",
   "nbconvert_exporter": "python",
   "pygments_lexer": "ipython3",
   "version": "3.8.13"
  }
 },
 "nbformat": 4,
 "nbformat_minor": 5
}
